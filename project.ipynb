{
 "cells": [
  {
   "cell_type": "markdown",
   "metadata": {},
   "source": [
    "# Построение xG-модели\n",
    "xG(\"expected goals\") - модель ожидаемых голов, которая оценивает качество созданных моментов, присваивая каждому удару по воротам некоторый коэффициент опастности. Как правило, данный коэффициент представляет собой вероятность того, что удар завершится взятием ворот. В xG-модели учитываются расстояение от точки нанесиния удара до ворот и угол под которым он наносился, координаты самой точки, какой частью тела наносился удар, из-за штрафной и т.д.\n",
    "\n",
    "Построим данную модель и сравним результаты с данными сайта https://understat.com."
   ]
  },
  {
   "cell_type": "markdown",
   "metadata": {},
   "source": [
    "## 1.Получение данных\n",
    "Сначала нам нужно получить данные. Для этого будем парсить сайт https://whoscored.com."
   ]
  },
  {
   "cell_type": "code",
   "execution_count": 1,
   "metadata": {},
   "outputs": [],
   "source": [
    "from datetime import datetime\n",
    "from html import unescape\n",
    "import json\n",
    "from matplotlib import pyplot as plt\n",
    "import numpy as np\n",
    "import pandas as pd\n",
    "import re\n",
    "import requests\n",
    "from selenium import webdriver\n",
    "from time import sleep\n",
    "from tqdm import tqdm"
   ]
  },
  {
   "cell_type": "markdown",
   "metadata": {},
   "source": [
    "Функция get_match_urls возвращает массив ссылок на матчи переданного в нее чемпионата."
   ]
  },
  {
   "cell_type": "code",
   "execution_count": 5,
   "metadata": {},
   "outputs": [],
   "source": [
    "def get_match_urls(tournament_url, driver):\n",
    "    driver.get(tournament_url)    \n",
    "    match_urls = []    \n",
    "    while True:\n",
    "        month = driver.find_elements_by_class_name(\"text\")[4].text\n",
    "        matches = driver.find_elements_by_class_name(\"result-1\")\n",
    "        for match in matches:\n",
    "            match_urls.append(match.get_attribute('href'))\n",
    "        driver.find_element_by_xpath(\"\"\"//*[@id=\"date-controller\"]/a[1]\"\"\").click()\n",
    "        month_new = driver.find_elements_by_class_name(\"text\")[4].text\n",
    "        if month_new == month:\n",
    "            break\n",
    "        month = month_new\n",
    "        sleep(2)\n",
    "    return match_urls"
   ]
  },
  {
   "cell_type": "markdown",
   "metadata": {},
   "source": [
    "get_team_dict возвращает список команд чемпионата и их id."
   ]
  },
  {
   "cell_type": "code",
   "execution_count": 6,
   "metadata": {},
   "outputs": [],
   "source": [
    "def get_team_dict(page_url, driver):\n",
    "    driver.get(page_url)\n",
    "    page = unescape(driver.page_source)\n",
    "    team_id = re.findall('\"teamId\":(\\d+)', page)\n",
    "    team_name = re.findall('\"teamName\":\"(\\w+.?\\w+)', page)\n",
    "    team_dict = dict()\n",
    "    for i in range(len(team_id)):\n",
    "        if team_id[i] not in team_dict:\n",
    "            team_dict[team_id[i]] = team_name[i]\n",
    "    return team_dict"
   ]
  },
  {
   "cell_type": "markdown",
   "metadata": {},
   "source": [
    "get_match_info возвращает массив всей информации о матче."
   ]
  },
  {
   "cell_type": "code",
   "execution_count": 40,
   "metadata": {},
   "outputs": [],
   "source": [
    "def get_match_info(match_url, driver):\n",
    "    driver.get(match_url)\n",
    "    content = unescape(driver.page_source)\n",
    "    match = re.findall(\"matchCentreData = ([^;]+});\", content)\n",
    "    match_id = re.findall(r'\\d+', match_url)[0]\n",
    "    match_dict = json.loads(match[0])\n",
    "    match_dict['match_id'] = match_id\n",
    "    teams_info = re.findall('matchHeader.load\\(\\[(.+)', content)[0].split(',')\n",
    "    match_dict['home_team_name'] = teams_info[2][1:-1]\n",
    "    match_dict['away_team_name'] = teams_info[3][1:-1]    \n",
    "    return match_dict"
   ]
  },
  {
   "cell_type": "markdown",
   "metadata": {},
   "source": [
    "parse_shots_from_match извлекает из передаваемого массива информацию о всех ударах по воротам и всех голах."
   ]
  },
  {
   "cell_type": "code",
   "execution_count": 3,
   "metadata": {},
   "outputs": [],
   "source": [
    "def parse_shots_from_match(match_info):\n",
    "    match_id = match_info['match_id']\n",
    "    date = datetime.strptime(match_info['startDate'], '%Y-%m-%dT%H:%M:%S')\n",
    "    date = date.strftime(\"%Y%m%d\")\n",
    "    \n",
    "    home_id = match_info['home']['teamId']\n",
    "    away_id = match_info['away']['teamId']\n",
    "    player_ids = match_info['playerIdNameDictionary']\n",
    "    \n",
    "    shots = []\n",
    "    for event in match_info['events']:\n",
    "        if 9 in event['satisfiedEventsTypes'] or 22 in event['satisfiedEventsTypes']:\n",
    "            minute = event['minute']\n",
    "            second = event['second']\n",
    "            time = 60 * minute + second\n",
    "            \n",
    "            player_id = str(event['playerId'])\n",
    "            player_name = player_ids[player_id]\n",
    "            x_coord = event['x']\n",
    "            y_coord = event['y']\n",
    "        \n",
    "            goalMouthY = ''\n",
    "            goalMouthZ = ''\n",
    "            try:\n",
    "                goalMouthY = event['goalMouthY']\n",
    "                goalMouthZ = event['goalMouthZ']\n",
    "            except:\n",
    "                pass\n",
    "        \n",
    "            is_big_chance = 0\n",
    "            is_from_corner = 0\n",
    "            is_freekick = 0\n",
    "            is_penalty = 0\n",
    "            is_own_goal = 0\n",
    "            if 'qualifiers'  in event:\n",
    "                for q in event['qualifiers']:\n",
    "                    if q['type']['displayName'] == 'BigChance':\n",
    "                        is_big_chance = 1\n",
    "                    if q['type']['displayName'] == 'FromCorner':\n",
    "                        is_from_corner = 1\n",
    "                    if q['type']['displayName'] ==  'DirectFreekick':\n",
    "                        is_freekick = 1\n",
    "                    if q['type']['displayName'] == 'Penalty':\n",
    "                        is_penalty = 1\n",
    "                    if q['type']['displayName'] == 'OwnGoal':\n",
    "                        is_own_goal = 1\n",
    "            \n",
    "            is_open_play = int(3 in event['satisfiedEventsTypes'])\n",
    "            is_counter = int(4 in event['satisfiedEventsTypes'])\n",
    "            is_set_piece = int(5 in event['satisfiedEventsTypes'])\n",
    "            is_goal = int(('isGoal' in event) and (event['isGoal']==True) and (is_own_goal == 0))\n",
    "            is_six_yard_box = int(0 in event['satisfiedEventsTypes'])\n",
    "            is_penalty_area = int(1 in event['satisfiedEventsTypes'])\n",
    "            is_shot_obox = int(2 in event['satisfiedEventsTypes'])\n",
    "            \n",
    "            shot_type = 0\n",
    "            if 11 in event['satisfiedEventsTypes']:\n",
    "                shot_type = 1\n",
    "            if 12 in event['satisfiedEventsTypes']:\n",
    "                shot_type = 1\n",
    "            if 13 in event['satisfiedEventsTypes']:\n",
    "                shot_type = 2\n",
    "        \n",
    "            shots.append([match_id, date, home_id, away_id, event['teamId'], player_id, player_name, time, x_coord, y_coord, goalMouthY, goalMouthZ,\n",
    "                          shot_type, is_big_chance, is_from_corner, is_open_play, is_counter, is_set_piece, is_freekick, \n",
    "                          is_penalty, is_six_yard_box, is_penalty_area, is_shot_obox, is_own_goal, is_goal])\n",
    "    return shots"
   ]
  },
  {
   "cell_type": "markdown",
   "metadata": {},
   "source": [
    "get_DataFrame позволяет получить информацию об ударах в виде таблицы."
   ]
  },
  {
   "cell_type": "code",
   "execution_count": 2,
   "metadata": {},
   "outputs": [],
   "source": [
    "def get_DataFrame(shots_list):\n",
    "    return pd.DataFrame(shots_list, columns=['match_id', 'date', 'home_id', 'away_id', 'team_id', 'player_id', 'player_name', 'time', 'x', 'y', \n",
    "                'goalMouthY', 'goalMouthZ', 'shot_type', 'is_big_chance', 'is_from_corner', 'is_open_play', 'is_counter', \n",
    "                'is_set_piece', 'is_freekick', 'is_penalty', 'is_six_yard_box', 'is_penalty_area', 'is_shot_obox', 'is_own_goal', 'is_goal'])"
   ]
  },
  {
   "cell_type": "markdown",
   "metadata": {},
   "source": [
    "Таким образом мы имеем набор функции, при помощи которого можно собрать информацию об интересующих нас чемпионатах."
   ]
  },
  {
   "cell_type": "code",
   "execution_count": null,
   "metadata": {},
   "outputs": [],
   "source": [
    "shots = []\n",
    "stage_url = 'https://www.whoscored.com/Regions/206/Tournaments/4/Seasons/6960/Spain-La-Liga'\n",
    "tournament_url = 'https://www.whoscored.com/Regions/206/Tournaments/4/Seasons/6960/Stages/15375/Fixtures/Spain-La-Liga-2017-2018'\n",
    "driver = webdriver.Chrome('chromedriver.exe')\n",
    "matches = get_tournament_urls(tournament_url, driver)\n",
    "team_dict = get_team_dict(stage_url, driver)\n",
    "for match in tqdm(matches):\n",
    "    shots += parse_shots_from_match(get_match_info(match, driver))\n",
    "driver.close()"
   ]
  },
  {
   "cell_type": "code",
   "execution_count": 27,
   "metadata": {},
   "outputs": [],
   "source": [
    "epl = get_DataFrame(shots)"
   ]
  },
  {
   "cell_type": "code",
   "execution_count": 21,
   "metadata": {},
   "outputs": [],
   "source": [
    "keys = list(map(int, team_dict.keys()))\n",
    "values = list(team_dict.values())\n",
    "teams = dict()\n",
    "for i in range(len(keys)):\n",
    "    teams[keys[i]] = values[i]"
   ]
  },
  {
   "cell_type": "code",
   "execution_count": null,
   "metadata": {},
   "outputs": [],
   "source": [
    "epl = epl.replace({'team_id':teams})\n",
    "epl = epl.replace({'away_id':teams})\n",
    "epl = epl.replace({'home_id':teams})"
   ]
  },
  {
   "cell_type": "code",
   "execution_count": 24,
   "metadata": {},
   "outputs": [],
   "source": [
    "epl.to_csv('rpl_17-18.csv', index=None)"
   ]
  },
  {
   "cell_type": "markdown",
   "metadata": {},
   "source": [
    "## 2. Обучение модели"
   ]
  },
  {
   "cell_type": "code",
   "execution_count": 3,
   "metadata": {},
   "outputs": [],
   "source": [
    "from itertools import combinations\n",
    "import numpy as np\n",
    "import pandas as pd\n",
    "from sklearn.linear_model import LogisticRegression\n",
    "from sklearn.model_selection import cross_val_score\n",
    "from sklearn.model_selection import StratifiedKFold\n",
    "from sklearn import preprocessing"
   ]
  },
  {
   "cell_type": "markdown",
   "metadata": {},
   "source": [
    "Нами полученны csv файлы с информацией о матчах английской премьер лиги с сезона 2010-2011 по 2017-2018. Эти данные будем использовать в качестве обучающей выборки. Объединим их в одну таблицу."
   ]
  },
  {
   "cell_type": "code",
   "execution_count": 4,
   "metadata": {},
   "outputs": [],
   "source": [
    "data = pd.read_csv('epl_10-11.csv')\n",
    "for i in range(11, 18):\n",
    "    data = data.append(pd.read_csv('epl_{0}-{1}.csv'.format(i, i + 1)))"
   ]
  },
  {
   "cell_type": "code",
   "execution_count": 5,
   "metadata": {},
   "outputs": [
    {
     "data": {
      "text/html": [
       "<div>\n",
       "<style scoped>\n",
       "    .dataframe tbody tr th:only-of-type {\n",
       "        vertical-align: middle;\n",
       "    }\n",
       "\n",
       "    .dataframe tbody tr th {\n",
       "        vertical-align: top;\n",
       "    }\n",
       "\n",
       "    .dataframe thead th {\n",
       "        text-align: right;\n",
       "    }\n",
       "</style>\n",
       "<table border=\"1\" class=\"dataframe\">\n",
       "  <thead>\n",
       "    <tr style=\"text-align: right;\">\n",
       "      <th></th>\n",
       "      <th>match_id</th>\n",
       "      <th>date</th>\n",
       "      <th>home_id</th>\n",
       "      <th>away_id</th>\n",
       "      <th>team_id</th>\n",
       "      <th>player_id</th>\n",
       "      <th>player_name</th>\n",
       "      <th>time</th>\n",
       "      <th>x</th>\n",
       "      <th>y</th>\n",
       "      <th>...</th>\n",
       "      <th>is_open_play</th>\n",
       "      <th>is_counter</th>\n",
       "      <th>is_set_piece</th>\n",
       "      <th>is_freekick</th>\n",
       "      <th>is_penalty</th>\n",
       "      <th>is_six_yard_box</th>\n",
       "      <th>is_penalty_area</th>\n",
       "      <th>is_shot_obox</th>\n",
       "      <th>is_own_goal</th>\n",
       "      <th>is_goal</th>\n",
       "    </tr>\n",
       "  </thead>\n",
       "  <tbody>\n",
       "    <tr>\n",
       "      <th>0</th>\n",
       "      <td>411364</td>\n",
       "      <td>20110501</td>\n",
       "      <td>Birmingham</td>\n",
       "      <td>Wolverhampton Wanderers</td>\n",
       "      <td>Wolverhampton Wanderers</td>\n",
       "      <td>7579</td>\n",
       "      <td>Kevin Foley</td>\n",
       "      <td>15</td>\n",
       "      <td>91.6</td>\n",
       "      <td>31.6</td>\n",
       "      <td>...</td>\n",
       "      <td>1</td>\n",
       "      <td>0</td>\n",
       "      <td>0</td>\n",
       "      <td>0</td>\n",
       "      <td>0</td>\n",
       "      <td>0</td>\n",
       "      <td>1</td>\n",
       "      <td>0</td>\n",
       "      <td>0</td>\n",
       "      <td>0</td>\n",
       "    </tr>\n",
       "    <tr>\n",
       "      <th>1</th>\n",
       "      <td>411364</td>\n",
       "      <td>20110501</td>\n",
       "      <td>Birmingham</td>\n",
       "      <td>Wolverhampton Wanderers</td>\n",
       "      <td>Wolverhampton Wanderers</td>\n",
       "      <td>9766</td>\n",
       "      <td>Steven Fletcher</td>\n",
       "      <td>17</td>\n",
       "      <td>89.0</td>\n",
       "      <td>39.4</td>\n",
       "      <td>...</td>\n",
       "      <td>1</td>\n",
       "      <td>0</td>\n",
       "      <td>0</td>\n",
       "      <td>0</td>\n",
       "      <td>0</td>\n",
       "      <td>0</td>\n",
       "      <td>1</td>\n",
       "      <td>0</td>\n",
       "      <td>0</td>\n",
       "      <td>0</td>\n",
       "    </tr>\n",
       "    <tr>\n",
       "      <th>2</th>\n",
       "      <td>411364</td>\n",
       "      <td>20110501</td>\n",
       "      <td>Birmingham</td>\n",
       "      <td>Wolverhampton Wanderers</td>\n",
       "      <td>Wolverhampton Wanderers</td>\n",
       "      <td>14171</td>\n",
       "      <td>Jamie O'Hara</td>\n",
       "      <td>18</td>\n",
       "      <td>84.3</td>\n",
       "      <td>31.8</td>\n",
       "      <td>...</td>\n",
       "      <td>1</td>\n",
       "      <td>0</td>\n",
       "      <td>0</td>\n",
       "      <td>0</td>\n",
       "      <td>0</td>\n",
       "      <td>0</td>\n",
       "      <td>1</td>\n",
       "      <td>0</td>\n",
       "      <td>0</td>\n",
       "      <td>0</td>\n",
       "    </tr>\n",
       "    <tr>\n",
       "      <th>3</th>\n",
       "      <td>411364</td>\n",
       "      <td>20110501</td>\n",
       "      <td>Birmingham</td>\n",
       "      <td>Wolverhampton Wanderers</td>\n",
       "      <td>Wolverhampton Wanderers</td>\n",
       "      <td>9766</td>\n",
       "      <td>Steven Fletcher</td>\n",
       "      <td>366</td>\n",
       "      <td>88.5</td>\n",
       "      <td>50.0</td>\n",
       "      <td>...</td>\n",
       "      <td>0</td>\n",
       "      <td>0</td>\n",
       "      <td>0</td>\n",
       "      <td>0</td>\n",
       "      <td>1</td>\n",
       "      <td>0</td>\n",
       "      <td>1</td>\n",
       "      <td>0</td>\n",
       "      <td>0</td>\n",
       "      <td>1</td>\n",
       "    </tr>\n",
       "    <tr>\n",
       "      <th>4</th>\n",
       "      <td>411364</td>\n",
       "      <td>20110501</td>\n",
       "      <td>Birmingham</td>\n",
       "      <td>Wolverhampton Wanderers</td>\n",
       "      <td>Birmingham</td>\n",
       "      <td>11235</td>\n",
       "      <td>Sebastian Larsson</td>\n",
       "      <td>537</td>\n",
       "      <td>71.9</td>\n",
       "      <td>65.7</td>\n",
       "      <td>...</td>\n",
       "      <td>0</td>\n",
       "      <td>0</td>\n",
       "      <td>1</td>\n",
       "      <td>1</td>\n",
       "      <td>0</td>\n",
       "      <td>0</td>\n",
       "      <td>0</td>\n",
       "      <td>1</td>\n",
       "      <td>0</td>\n",
       "      <td>0</td>\n",
       "    </tr>\n",
       "  </tbody>\n",
       "</table>\n",
       "<p>5 rows × 25 columns</p>\n",
       "</div>"
      ],
      "text/plain": [
       "   match_id      date     home_id                  away_id  \\\n",
       "0    411364  20110501  Birmingham  Wolverhampton Wanderers   \n",
       "1    411364  20110501  Birmingham  Wolverhampton Wanderers   \n",
       "2    411364  20110501  Birmingham  Wolverhampton Wanderers   \n",
       "3    411364  20110501  Birmingham  Wolverhampton Wanderers   \n",
       "4    411364  20110501  Birmingham  Wolverhampton Wanderers   \n",
       "\n",
       "                   team_id  player_id        player_name  time     x     y  \\\n",
       "0  Wolverhampton Wanderers       7579        Kevin Foley    15  91.6  31.6   \n",
       "1  Wolverhampton Wanderers       9766    Steven Fletcher    17  89.0  39.4   \n",
       "2  Wolverhampton Wanderers      14171       Jamie O'Hara    18  84.3  31.8   \n",
       "3  Wolverhampton Wanderers       9766    Steven Fletcher   366  88.5  50.0   \n",
       "4               Birmingham      11235  Sebastian Larsson   537  71.9  65.7   \n",
       "\n",
       "    ...     is_open_play  is_counter  is_set_piece  is_freekick  is_penalty  \\\n",
       "0   ...                1           0             0            0           0   \n",
       "1   ...                1           0             0            0           0   \n",
       "2   ...                1           0             0            0           0   \n",
       "3   ...                0           0             0            0           1   \n",
       "4   ...                0           0             1            1           0   \n",
       "\n",
       "   is_six_yard_box  is_penalty_area  is_shot_obox  is_own_goal  is_goal  \n",
       "0                0                1             0            0        0  \n",
       "1                0                1             0            0        0  \n",
       "2                0                1             0            0        0  \n",
       "3                0                1             0            0        1  \n",
       "4                0                0             1            0        0  \n",
       "\n",
       "[5 rows x 25 columns]"
      ]
     },
     "execution_count": 5,
     "metadata": {},
     "output_type": "execute_result"
    }
   ],
   "source": [
    "data.head()"
   ]
  },
  {
   "cell_type": "code",
   "execution_count": 6,
   "metadata": {},
   "outputs": [
    {
     "data": {
      "text/plain": [
       "(81747, 25)"
      ]
     },
     "execution_count": 6,
     "metadata": {},
     "output_type": "execute_result"
    }
   ],
   "source": [
    "data.shape"
   ]
  },
  {
   "cell_type": "markdown",
   "metadata": {},
   "source": [
    "Добавим признаки: расстояние от точки нанесения удара до ворот и угол под которым он наносился."
   ]
  },
  {
   "cell_type": "code",
   "execution_count": 7,
   "metadata": {},
   "outputs": [],
   "source": [
    "distance = np.sqrt((100 - data['x']) ** 2 + ((50 - data['y']) * 0.65) ** 2)\n",
    "data['distance'] = distance\n",
    "angle = (100 - data['x']) / data['distance']\n",
    "data['angle'] = angle"
   ]
  },
  {
   "cell_type": "markdown",
   "metadata": {},
   "source": [
    "Удалим из нашей выборки все автоголы."
   ]
  },
  {
   "cell_type": "code",
   "execution_count": 8,
   "metadata": {},
   "outputs": [],
   "source": [
    "data_train = data[data['is_own_goal'] == 0]"
   ]
  },
  {
   "cell_type": "code",
   "execution_count": 9,
   "metadata": {},
   "outputs": [],
   "source": [
    "x_train = data_train[['shot_type', 'is_big_chance', 'is_from_corner', 'is_open_play', 'is_counter', 'is_set_piece', 'is_freekick', 'is_penalty', 'is_six_yard_box', 'is_penalty_area', 'is_shot_obox', 'distance', 'angle']]"
   ]
  },
  {
   "cell_type": "markdown",
   "metadata": {},
   "source": [
    "Бинаризируем признак shot_type:"
   ]
  },
  {
   "cell_type": "code",
   "execution_count": 10,
   "metadata": {},
   "outputs": [],
   "source": [
    "x_train = pd.get_dummies(x_train, columns=['shot_type'])"
   ]
  },
  {
   "cell_type": "code",
   "execution_count": 11,
   "metadata": {},
   "outputs": [],
   "source": [
    "y_train = data_train['is_goal']"
   ]
  },
  {
   "cell_type": "markdown",
   "metadata": {},
   "source": [
    "Будем использовать логистическую регрессию, чтобы обучить нашу модель, так как она позволяет корректно оценивать веротность принадлежности к одному из классов. В нашем случае 1-й класс - удар завершится голом, 2-й - взятие ворот не произойдет. Подберем параметр регуляризации, чтобы улучшить обобщающую способность модели. "
   ]
  },
  {
   "cell_type": "code",
   "execution_count": 34,
   "metadata": {
    "scrolled": true
   },
   "outputs": [
    {
     "name": "stdout",
     "output_type": "stream",
     "text": [
      "0.029470517025518096 0.9107140664333517\n"
     ]
    }
   ],
   "source": [
    "best_score = 0\n",
    "best_c = 0\n",
    "for c in np.logspace(-5, 5, 50):\n",
    "    clf = LogisticRegression(C=c, max_iter=100, random_state=42)\n",
    "    score = cross_val_score(clf, x_train, y_train, cv=StratifiedKFold(n_splits=5, shuffle=True, random_state=42), scoring='accuracy').mean()\n",
    "    if best_score < score:\n",
    "        best_score = score\n",
    "        best_c = c\n",
    "print(best_c, best_score)"
   ]
  },
  {
   "cell_type": "code",
   "execution_count": 35,
   "metadata": {},
   "outputs": [],
   "source": [
    "clf = LogisticRegression(C=best_c, max_iter=1000, random_state=42)"
   ]
  },
  {
   "cell_type": "code",
   "execution_count": 36,
   "metadata": {},
   "outputs": [
    {
     "data": {
      "text/plain": [
       "LogisticRegression(C=0.029470517025518096, class_weight=None, dual=False,\n",
       "          fit_intercept=True, intercept_scaling=1, max_iter=1000,\n",
       "          multi_class='ovr', n_jobs=1, penalty='l2', random_state=42,\n",
       "          solver='liblinear', tol=0.0001, verbose=0, warm_start=False)"
      ]
     },
     "execution_count": 36,
     "metadata": {},
     "output_type": "execute_result"
    }
   ],
   "source": [
    "clf.fit(x_train, y_train)"
   ]
  },
  {
   "cell_type": "code",
   "execution_count": 19,
   "metadata": {},
   "outputs": [
    {
     "data": {
      "text/plain": [
       "Index(['is_big_chance', 'is_from_corner', 'is_open_play', 'is_counter',\n",
       "       'is_set_piece', 'is_freekick', 'is_penalty', 'is_six_yard_box',\n",
       "       'is_penalty_area', 'is_shot_obox', 'distance', 'angle', 'shot_type_0',\n",
       "       'shot_type_1', 'shot_type_2'],\n",
       "      dtype='object')"
      ]
     },
     "execution_count": 19,
     "metadata": {},
     "output_type": "execute_result"
    }
   ],
   "source": [
    "x_train.columns"
   ]
  },
  {
   "cell_type": "code",
   "execution_count": 38,
   "metadata": {},
   "outputs": [
    {
     "data": {
      "text/plain": [
       "array([[ 1.58567504, -0.28653824, -0.64418333, -0.06321354, -0.66325848,\n",
       "         0.70009281,  0.87934615, -0.19008353, -0.3021071 , -0.00188416,\n",
       "        -0.12462436,  0.77286459,  0.12907034,  0.02178337, -0.6449285 ]])"
      ]
     },
     "execution_count": 38,
     "metadata": {},
     "output_type": "execute_result"
    }
   ],
   "source": [
    "clf.coef_"
   ]
  },
  {
   "cell_type": "code",
   "execution_count": 300,
   "metadata": {},
   "outputs": [],
   "source": [
    "d = pd.read_csv('epl_18-19.csv')"
   ]
  },
  {
   "cell_type": "code",
   "execution_count": 301,
   "metadata": {},
   "outputs": [],
   "source": [
    "distance = np.sqrt((100 - d['x']) ** 2 + ((50 - d['y']) * 0.65) ** 2)\n",
    "d['distance'] = distance\n",
    "angle = (100 - d['x']) / d['distance']\n",
    "d['angle'] = angle"
   ]
  },
  {
   "cell_type": "code",
   "execution_count": 302,
   "metadata": {},
   "outputs": [],
   "source": [
    "data_test = d[d['is_own_goal'] == 0] "
   ]
  },
  {
   "cell_type": "code",
   "execution_count": 303,
   "metadata": {},
   "outputs": [],
   "source": [
    "x_test = data_test[['shot_type', 'is_big_chance', 'is_from_corner', 'is_open_play', 'is_counter', 'is_set_piece', 'is_freekick', 'is_penalty', 'is_six_yard_box', 'is_penalty_area', 'is_shot_obox', 'distance', 'angle']]"
   ]
  },
  {
   "cell_type": "code",
   "execution_count": 304,
   "metadata": {},
   "outputs": [],
   "source": [
    "x_test = pd.get_dummies(x_test, columns=['shot_type'])"
   ]
  },
  {
   "cell_type": "code",
   "execution_count": 305,
   "metadata": {},
   "outputs": [
    {
     "name": "stderr",
     "output_type": "stream",
     "text": [
      "C:\\Users\\ibook\\Anaconda3\\lib\\site-packages\\ipykernel_launcher.py:1: SettingWithCopyWarning: \n",
      "A value is trying to be set on a copy of a slice from a DataFrame.\n",
      "Try using .loc[row_indexer,col_indexer] = value instead\n",
      "\n",
      "See the caveats in the documentation: http://pandas.pydata.org/pandas-docs/stable/indexing.html#indexing-view-versus-copy\n",
      "  \"\"\"Entry point for launching an IPython kernel.\n"
     ]
    }
   ],
   "source": [
    "data_test['XG'] = clf.predict_proba(x_test)[:, 1]"
   ]
  },
  {
   "cell_type": "markdown",
   "metadata": {},
   "source": [
    "## 3. Представление результатов"
   ]
  },
  {
   "cell_type": "markdown",
   "metadata": {},
   "source": [
    "Попробуем вычислить вероятность следующих событий: победа хозяев, ничья, победа гостей. У нас имеется информация об ударах каждой из команд. Подсчитаем вероятность, что каждая из команд забьет 0, 1, 2, ..., 7 мячей. Будем считать события \"команда A забила n голов\", \"команда B забила m голов\" независимыми, найдем вероятность победы как сумма вероятностей счетов 1:0, 2:0, 2:1, и т.д. Аналогично вероятностью ничью будет сумма вероятностей ничейных счетов. Имея вероятности трех исходов, можно вычислить ожидаемые очки xP как матожидание набранных очков, учитывая, что за победу команда получает 3 очка, за ничью - 1, за поражение - 0."
   ]
  },
  {
   "cell_type": "code",
   "execution_count": 225,
   "metadata": {},
   "outputs": [],
   "source": [
    "import seaborn as sn"
   ]
  },
  {
   "cell_type": "code",
   "execution_count": 64,
   "metadata": {},
   "outputs": [],
   "source": [
    "def get_xP(home_shots, away_shots):\n",
    "    max_poss_goals = 6\n",
    "    max_goals = max(home_shots.shape[0], away_shots.shape[0])\n",
    "    goals_probs_home = np.zeros(min(max_poss_goals, max_goals))\n",
    "    goals_probs_away = np.zeros(min(max_poss_goals, max_goals))\n",
    "    for c in range(goals_probs_home.shape[0]):\n",
    "        combs = list(combinations(np.arange(home_shots.shape[0]), c))\n",
    "        for comb in combs:\n",
    "            goals_probs_home[c] += np.prod([val if d in list(comb) else 1-val for d, val in enumerate(home_shots)], axis=0)\n",
    "    for c in range(goals_probs_away.shape[0]):\n",
    "        combs = list(combinations(np.arange(away_shots.shape[0]), c))\n",
    "        for comb in combs:\n",
    "            goals_probs_away[c] += np.prod([val if d in list(comb) else 1-val for d, val in enumerate(away_shots)], axis=0)\n",
    "    result = np.zeros(3)\n",
    "    for c in range(0, goals_probs_home.shape[0]):\n",
    "        for d in range(0, c):\n",
    "            result[0] += goals_probs_home[c] * goals_probs_away[d]\n",
    "            result[2] += goals_probs_home[d] * goals_probs_away[c]\n",
    "        result[1] += goals_probs_home[c] * goals_probs_away[c]\n",
    "    result[2] = 1 - result[0] - result[1]\n",
    "    return result[0], result[1], result[2]"
   ]
  },
  {
   "cell_type": "code",
   "execution_count": 306,
   "metadata": {},
   "outputs": [],
   "source": [
    "shots_home = data_test[data_test['home_id'] == data_test['team_id']]\n",
    "shots_away = data_test[data_test['away_id'] == data_test['team_id']]"
   ]
  },
  {
   "cell_type": "code",
   "execution_count": 307,
   "metadata": {},
   "outputs": [],
   "source": [
    "ids = set(data_test['match_id'].values)\n",
    "xP = dict()\n",
    "points = dict()\n",
    "xG = dict()\n",
    "xGa = dict()\n",
    "goals = dict()\n",
    "gA = dict()\n",
    "for i in ids:\n",
    "    away = shots_away[shots_away['match_id'] == i]\n",
    "    home = shots_home[shots_home['match_id'] == i]\n",
    "    away_name = away['away_id'].values[0]\n",
    "    home_name = away['home_id'].values[0]\n",
    "    proba = get_xP(away['XG'].sort_values(ascending=False).values, home['XG'].sort_values(ascending=False).values)\n",
    "    xP[away_name] = xP.get(away_name, 0) + proba[0] * 3 + proba[1] * 1\n",
    "    xP[home_name] = xP.get(home_name, 0) + proba[2] * 3 + proba[1] * 1\n",
    "    xG[away_name] = xG.get(away_name, 0) + away['XG'].sum()\n",
    "    xG[home_name] = xG.get(home_name, 0) + home['XG'].sum()\n",
    "    xGa[home_name] = xGa.get(home_name, 0) + away['XG'].sum()\n",
    "    xGa[away_name] = xGa.get(away_name, 0) + home['XG'].sum()\n",
    "    goals[home_name] = goals.get(home_name, 0) + home['is_goal'].sum() + away['is_own_goal'].sum()\n",
    "    goals[away_name] = goals.get(away_name, 0) + away['is_goal'].sum() + home['is_own_goal'].sum()\n",
    "    gA[home_name] = gA.get(home_name, 0) + away['is_goal'].sum() + home['is_own_goal'].sum()\n",
    "    gA[away_name] = gA.get(away_name, 0) + home['is_goal'].sum() + away['is_own_goal'].sum()\n",
    "    dif = home['is_goal'].sum() - home['is_own_goal'].sum() - away['is_goal'].sum() + away['is_own_goal'].sum()\n",
    "    if dif == 0:\n",
    "        p1 = 1\n",
    "        p2 = 1\n",
    "    elif dif > 0:\n",
    "        p1 = 3\n",
    "        p2 = 0\n",
    "    else:\n",
    "        p1 = 0\n",
    "        p2 = 3\n",
    "    points[home_name] = points.get(home_name, 0) + p1\n",
    "    points[away_name] = points.get(away_name, 0) + p2"
   ]
  },
  {
   "cell_type": "code",
   "execution_count": 308,
   "metadata": {},
   "outputs": [],
   "source": [
    "xp = pd.DataFrame(list(xP.items()), columns=['team', 'xP']).sort_values('xP', ascending=False)"
   ]
  },
  {
   "cell_type": "code",
   "execution_count": 309,
   "metadata": {},
   "outputs": [],
   "source": [
    "p = pd.DataFrame(list(points.items()), columns=['team', 'P']).sort_values('P', ascending=False)"
   ]
  },
  {
   "cell_type": "code",
   "execution_count": 310,
   "metadata": {},
   "outputs": [],
   "source": [
    "xG = pd.DataFrame(list(xG.items()), columns=['team', 'xG']).sort_values('xG', ascending=False)"
   ]
  },
  {
   "cell_type": "code",
   "execution_count": 311,
   "metadata": {},
   "outputs": [],
   "source": [
    "goals = pd.DataFrame(list(goals.items()), columns=['team', 'G']).sort_values('G', ascending=False)"
   ]
  },
  {
   "cell_type": "code",
   "execution_count": 312,
   "metadata": {},
   "outputs": [],
   "source": [
    "xGa = pd.DataFrame(list(xGa.items()), columns=['team', 'xGa']).sort_values('xGa', ascending=False)"
   ]
  },
  {
   "cell_type": "code",
   "execution_count": 313,
   "metadata": {},
   "outputs": [],
   "source": [
    "gA = pd.DataFrame(list(gA.items()), columns=['team', 'GA']).sort_values('GA', ascending=False)"
   ]
  },
  {
   "cell_type": "code",
   "execution_count": 314,
   "metadata": {},
   "outputs": [],
   "source": [
    "table = xp.set_index('team').join(p.set_index('team'))"
   ]
  },
  {
   "cell_type": "code",
   "execution_count": 315,
   "metadata": {},
   "outputs": [],
   "source": [
    "table = table.join(xG.set_index('team'))"
   ]
  },
  {
   "cell_type": "code",
   "execution_count": 316,
   "metadata": {},
   "outputs": [],
   "source": [
    "table = table.join(goals.set_index('team'))"
   ]
  },
  {
   "cell_type": "code",
   "execution_count": 317,
   "metadata": {},
   "outputs": [],
   "source": [
    "table = table.join(xGa.set_index('team'))"
   ]
  },
  {
   "cell_type": "code",
   "execution_count": 318,
   "metadata": {},
   "outputs": [],
   "source": [
    "table = table.join(gA.set_index('team'))"
   ]
  },
  {
   "cell_type": "code",
   "execution_count": 319,
   "metadata": {},
   "outputs": [
    {
     "data": {
      "text/html": [
       "<div>\n",
       "<style scoped>\n",
       "    .dataframe tbody tr th:only-of-type {\n",
       "        vertical-align: middle;\n",
       "    }\n",
       "\n",
       "    .dataframe tbody tr th {\n",
       "        vertical-align: top;\n",
       "    }\n",
       "\n",
       "    .dataframe thead th {\n",
       "        text-align: right;\n",
       "    }\n",
       "</style>\n",
       "<table border=\"1\" class=\"dataframe\">\n",
       "  <thead>\n",
       "    <tr style=\"text-align: right;\">\n",
       "      <th></th>\n",
       "      <th>xP</th>\n",
       "      <th>P</th>\n",
       "      <th>xG</th>\n",
       "      <th>G</th>\n",
       "      <th>xGa</th>\n",
       "      <th>GA</th>\n",
       "    </tr>\n",
       "    <tr>\n",
       "      <th>team</th>\n",
       "      <th></th>\n",
       "      <th></th>\n",
       "      <th></th>\n",
       "      <th></th>\n",
       "      <th></th>\n",
       "      <th></th>\n",
       "    </tr>\n",
       "  </thead>\n",
       "  <tbody>\n",
       "    <tr>\n",
       "      <th>Manchester City</th>\n",
       "      <td>37.225608</td>\n",
       "      <td>41</td>\n",
       "      <td>39.638794</td>\n",
       "      <td>43</td>\n",
       "      <td>12.557364</td>\n",
       "      <td>9</td>\n",
       "    </tr>\n",
       "    <tr>\n",
       "      <th>Liverpool</th>\n",
       "      <td>32.573466</td>\n",
       "      <td>42</td>\n",
       "      <td>29.912124</td>\n",
       "      <td>32</td>\n",
       "      <td>13.362164</td>\n",
       "      <td>6</td>\n",
       "    </tr>\n",
       "    <tr>\n",
       "      <th>Chelsea</th>\n",
       "      <td>30.882567</td>\n",
       "      <td>32</td>\n",
       "      <td>29.065081</td>\n",
       "      <td>32</td>\n",
       "      <td>16.826720</td>\n",
       "      <td>13</td>\n",
       "    </tr>\n",
       "    <tr>\n",
       "      <th>Wolverhampton Wanderers</th>\n",
       "      <td>26.160990</td>\n",
       "      <td>22</td>\n",
       "      <td>21.882044</td>\n",
       "      <td>17</td>\n",
       "      <td>15.260433</td>\n",
       "      <td>18</td>\n",
       "    </tr>\n",
       "    <tr>\n",
       "      <th>Tottenham</th>\n",
       "      <td>25.324079</td>\n",
       "      <td>36</td>\n",
       "      <td>25.613089</td>\n",
       "      <td>29</td>\n",
       "      <td>21.101521</td>\n",
       "      <td>16</td>\n",
       "    </tr>\n",
       "    <tr>\n",
       "      <th>Arsenal</th>\n",
       "      <td>24.719572</td>\n",
       "      <td>31</td>\n",
       "      <td>24.863079</td>\n",
       "      <td>31</td>\n",
       "      <td>21.232280</td>\n",
       "      <td>19</td>\n",
       "    </tr>\n",
       "    <tr>\n",
       "      <th>Watford</th>\n",
       "      <td>24.160562</td>\n",
       "      <td>20</td>\n",
       "      <td>23.670739</td>\n",
       "      <td>19</td>\n",
       "      <td>20.788170</td>\n",
       "      <td>21</td>\n",
       "    </tr>\n",
       "    <tr>\n",
       "      <th>Manchester United</th>\n",
       "      <td>23.561372</td>\n",
       "      <td>28</td>\n",
       "      <td>26.522987</td>\n",
       "      <td>28</td>\n",
       "      <td>22.931063</td>\n",
       "      <td>24</td>\n",
       "    </tr>\n",
       "    <tr>\n",
       "      <th>Everton</th>\n",
       "      <td>23.197904</td>\n",
       "      <td>26</td>\n",
       "      <td>23.779013</td>\n",
       "      <td>23</td>\n",
       "      <td>22.283405</td>\n",
       "      <td>18</td>\n",
       "    </tr>\n",
       "    <tr>\n",
       "      <th>Leicester</th>\n",
       "      <td>23.182893</td>\n",
       "      <td>22</td>\n",
       "      <td>20.735321</td>\n",
       "      <td>19</td>\n",
       "      <td>18.718530</td>\n",
       "      <td>20</td>\n",
       "    </tr>\n",
       "    <tr>\n",
       "      <th>Bournemouth</th>\n",
       "      <td>22.745725</td>\n",
       "      <td>24</td>\n",
       "      <td>25.321101</td>\n",
       "      <td>25</td>\n",
       "      <td>25.165746</td>\n",
       "      <td>24</td>\n",
       "    </tr>\n",
       "    <tr>\n",
       "      <th>Crystal Palace</th>\n",
       "      <td>20.555610</td>\n",
       "      <td>12</td>\n",
       "      <td>19.098301</td>\n",
       "      <td>13</td>\n",
       "      <td>21.696371</td>\n",
       "      <td>23</td>\n",
       "    </tr>\n",
       "    <tr>\n",
       "      <th>West Ham</th>\n",
       "      <td>20.323498</td>\n",
       "      <td>21</td>\n",
       "      <td>21.533345</td>\n",
       "      <td>22</td>\n",
       "      <td>25.249443</td>\n",
       "      <td>24</td>\n",
       "    </tr>\n",
       "    <tr>\n",
       "      <th>Southampton</th>\n",
       "      <td>19.540787</td>\n",
       "      <td>9</td>\n",
       "      <td>22.210836</td>\n",
       "      <td>13</td>\n",
       "      <td>25.101885</td>\n",
       "      <td>28</td>\n",
       "    </tr>\n",
       "    <tr>\n",
       "      <th>Cardiff</th>\n",
       "      <td>19.312381</td>\n",
       "      <td>14</td>\n",
       "      <td>19.623222</td>\n",
       "      <td>15</td>\n",
       "      <td>25.780960</td>\n",
       "      <td>30</td>\n",
       "    </tr>\n",
       "    <tr>\n",
       "      <th>Brighton</th>\n",
       "      <td>15.219669</td>\n",
       "      <td>21</td>\n",
       "      <td>17.383246</td>\n",
       "      <td>19</td>\n",
       "      <td>27.440299</td>\n",
       "      <td>22</td>\n",
       "    </tr>\n",
       "    <tr>\n",
       "      <th>Huddersfield</th>\n",
       "      <td>14.616689</td>\n",
       "      <td>8</td>\n",
       "      <td>11.872389</td>\n",
       "      <td>9</td>\n",
       "      <td>23.272768</td>\n",
       "      <td>26</td>\n",
       "    </tr>\n",
       "    <tr>\n",
       "      <th>Newcastle United</th>\n",
       "      <td>14.424460</td>\n",
       "      <td>12</td>\n",
       "      <td>16.933061</td>\n",
       "      <td>12</td>\n",
       "      <td>27.379049</td>\n",
       "      <td>21</td>\n",
       "    </tr>\n",
       "    <tr>\n",
       "      <th>Fulham</th>\n",
       "      <td>12.932752</td>\n",
       "      <td>10</td>\n",
       "      <td>16.284695</td>\n",
       "      <td>16</td>\n",
       "      <td>31.456845</td>\n",
       "      <td>39</td>\n",
       "    </tr>\n",
       "    <tr>\n",
       "      <th>Burnley</th>\n",
       "      <td>12.255831</td>\n",
       "      <td>13</td>\n",
       "      <td>14.612096</td>\n",
       "      <td>15</td>\n",
       "      <td>32.949543</td>\n",
       "      <td>31</td>\n",
       "    </tr>\n",
       "  </tbody>\n",
       "</table>\n",
       "</div>"
      ],
      "text/plain": [
       "                                xP   P         xG   G        xGa  GA\n",
       "team                                                                \n",
       "Manchester City          37.225608  41  39.638794  43  12.557364   9\n",
       "Liverpool                32.573466  42  29.912124  32  13.362164   6\n",
       "Chelsea                  30.882567  32  29.065081  32  16.826720  13\n",
       "Wolverhampton Wanderers  26.160990  22  21.882044  17  15.260433  18\n",
       "Tottenham                25.324079  36  25.613089  29  21.101521  16\n",
       "Arsenal                  24.719572  31  24.863079  31  21.232280  19\n",
       "Watford                  24.160562  20  23.670739  19  20.788170  21\n",
       "Manchester United        23.561372  28  26.522987  28  22.931063  24\n",
       "Everton                  23.197904  26  23.779013  23  22.283405  18\n",
       "Leicester                23.182893  22  20.735321  19  18.718530  20\n",
       "Bournemouth              22.745725  24  25.321101  25  25.165746  24\n",
       "Crystal Palace           20.555610  12  19.098301  13  21.696371  23\n",
       "West Ham                 20.323498  21  21.533345  22  25.249443  24\n",
       "Southampton              19.540787   9  22.210836  13  25.101885  28\n",
       "Cardiff                  19.312381  14  19.623222  15  25.780960  30\n",
       "Brighton                 15.219669  21  17.383246  19  27.440299  22\n",
       "Huddersfield             14.616689   8  11.872389   9  23.272768  26\n",
       "Newcastle United         14.424460  12  16.933061  12  27.379049  21\n",
       "Fulham                   12.932752  10  16.284695  16  31.456845  39\n",
       "Burnley                  12.255831  13  14.612096  15  32.949543  31"
      ]
     },
     "execution_count": 319,
     "metadata": {},
     "output_type": "execute_result"
    }
   ],
   "source": [
    "table"
   ]
  },
  {
   "cell_type": "code",
   "execution_count": 209,
   "metadata": {},
   "outputs": [],
   "source": [
    "table.to_csv('table_rpl_18-19.csv', index=None)"
   ]
  },
  {
   "cell_type": "code",
   "execution_count": 320,
   "metadata": {},
   "outputs": [],
   "source": [
    "team_goals = dict()\n",
    "team_xG = dict()\n",
    "team_names = set(data_test['team_id'].values)\n",
    "for i in team_names:\n",
    "    team = data_test[data_test['team_id'] == i]\n",
    "    m = len(set(team['match_id'].values))\n",
    "    team_goals[i] = team['is_goal'].sum() / m\n",
    "    team_xG[i] = team['XG'].sum() / m"
   ]
  },
  {
   "cell_type": "code",
   "execution_count": 321,
   "metadata": {},
   "outputs": [],
   "source": [
    "team_goals = pd.DataFrame(list(team_goals.items()), columns=['team', 'goal_per_match']).sort_values('goal_per_match', ascending=False)"
   ]
  },
  {
   "cell_type": "code",
   "execution_count": 322,
   "metadata": {},
   "outputs": [],
   "source": [
    "team_xG = pd.DataFrame(list(team_xG.items()), columns=['team', 'xG_per_match']).sort_values('xG_per_match', ascending=False)"
   ]
  },
  {
   "cell_type": "code",
   "execution_count": 323,
   "metadata": {},
   "outputs": [],
   "source": [
    "xG_goals = team_goals.set_index('team').join(team_xG.set_index('team'))"
   ]
  },
  {
   "cell_type": "code",
   "execution_count": 324,
   "metadata": {},
   "outputs": [
    {
     "data": {
      "text/html": [
       "<div>\n",
       "<style scoped>\n",
       "    .dataframe tbody tr th:only-of-type {\n",
       "        vertical-align: middle;\n",
       "    }\n",
       "\n",
       "    .dataframe tbody tr th {\n",
       "        vertical-align: top;\n",
       "    }\n",
       "\n",
       "    .dataframe thead th {\n",
       "        text-align: right;\n",
       "    }\n",
       "</style>\n",
       "<table border=\"1\" class=\"dataframe\">\n",
       "  <thead>\n",
       "    <tr style=\"text-align: right;\">\n",
       "      <th></th>\n",
       "      <th>goal_per_match</th>\n",
       "      <th>xG_per_match</th>\n",
       "    </tr>\n",
       "    <tr>\n",
       "      <th>team</th>\n",
       "      <th></th>\n",
       "      <th></th>\n",
       "    </tr>\n",
       "  </thead>\n",
       "  <tbody>\n",
       "    <tr>\n",
       "      <th>Manchester City</th>\n",
       "      <td>2.6875</td>\n",
       "      <td>2.477425</td>\n",
       "    </tr>\n",
       "    <tr>\n",
       "      <th>Chelsea</th>\n",
       "      <td>2.0000</td>\n",
       "      <td>1.816568</td>\n",
       "    </tr>\n",
       "    <tr>\n",
       "      <th>Liverpool</th>\n",
       "      <td>2.0000</td>\n",
       "      <td>1.869508</td>\n",
       "    </tr>\n",
       "    <tr>\n",
       "      <th>Arsenal</th>\n",
       "      <td>1.9375</td>\n",
       "      <td>1.553942</td>\n",
       "    </tr>\n",
       "    <tr>\n",
       "      <th>Tottenham</th>\n",
       "      <td>1.8125</td>\n",
       "      <td>1.600818</td>\n",
       "    </tr>\n",
       "    <tr>\n",
       "      <th>Manchester United</th>\n",
       "      <td>1.7500</td>\n",
       "      <td>1.657687</td>\n",
       "    </tr>\n",
       "    <tr>\n",
       "      <th>Bournemouth</th>\n",
       "      <td>1.5625</td>\n",
       "      <td>1.582569</td>\n",
       "    </tr>\n",
       "    <tr>\n",
       "      <th>Everton</th>\n",
       "      <td>1.4375</td>\n",
       "      <td>1.486188</td>\n",
       "    </tr>\n",
       "    <tr>\n",
       "      <th>West Ham</th>\n",
       "      <td>1.3750</td>\n",
       "      <td>1.345834</td>\n",
       "    </tr>\n",
       "    <tr>\n",
       "      <th>Leicester</th>\n",
       "      <td>1.1875</td>\n",
       "      <td>1.295958</td>\n",
       "    </tr>\n",
       "    <tr>\n",
       "      <th>Brighton</th>\n",
       "      <td>1.1875</td>\n",
       "      <td>1.086453</td>\n",
       "    </tr>\n",
       "    <tr>\n",
       "      <th>Watford</th>\n",
       "      <td>1.1875</td>\n",
       "      <td>1.479421</td>\n",
       "    </tr>\n",
       "    <tr>\n",
       "      <th>Wolverhampton Wanderers</th>\n",
       "      <td>1.0625</td>\n",
       "      <td>1.367628</td>\n",
       "    </tr>\n",
       "    <tr>\n",
       "      <th>Fulham</th>\n",
       "      <td>1.0000</td>\n",
       "      <td>1.017793</td>\n",
       "    </tr>\n",
       "    <tr>\n",
       "      <th>Burnley</th>\n",
       "      <td>0.9375</td>\n",
       "      <td>0.913256</td>\n",
       "    </tr>\n",
       "    <tr>\n",
       "      <th>Cardiff</th>\n",
       "      <td>0.9375</td>\n",
       "      <td>1.226451</td>\n",
       "    </tr>\n",
       "    <tr>\n",
       "      <th>Southampton</th>\n",
       "      <td>0.8125</td>\n",
       "      <td>1.388177</td>\n",
       "    </tr>\n",
       "    <tr>\n",
       "      <th>Crystal Palace</th>\n",
       "      <td>0.8125</td>\n",
       "      <td>1.193644</td>\n",
       "    </tr>\n",
       "    <tr>\n",
       "      <th>Newcastle United</th>\n",
       "      <td>0.7500</td>\n",
       "      <td>1.058316</td>\n",
       "    </tr>\n",
       "    <tr>\n",
       "      <th>Huddersfield</th>\n",
       "      <td>0.5625</td>\n",
       "      <td>0.742024</td>\n",
       "    </tr>\n",
       "  </tbody>\n",
       "</table>\n",
       "</div>"
      ],
      "text/plain": [
       "                         goal_per_match  xG_per_match\n",
       "team                                                 \n",
       "Manchester City                  2.6875      2.477425\n",
       "Chelsea                          2.0000      1.816568\n",
       "Liverpool                        2.0000      1.869508\n",
       "Arsenal                          1.9375      1.553942\n",
       "Tottenham                        1.8125      1.600818\n",
       "Manchester United                1.7500      1.657687\n",
       "Bournemouth                      1.5625      1.582569\n",
       "Everton                          1.4375      1.486188\n",
       "West Ham                         1.3750      1.345834\n",
       "Leicester                        1.1875      1.295958\n",
       "Brighton                         1.1875      1.086453\n",
       "Watford                          1.1875      1.479421\n",
       "Wolverhampton Wanderers          1.0625      1.367628\n",
       "Fulham                           1.0000      1.017793\n",
       "Burnley                          0.9375      0.913256\n",
       "Cardiff                          0.9375      1.226451\n",
       "Southampton                      0.8125      1.388177\n",
       "Crystal Palace                   0.8125      1.193644\n",
       "Newcastle United                 0.7500      1.058316\n",
       "Huddersfield                     0.5625      0.742024"
      ]
     },
     "execution_count": 324,
     "metadata": {},
     "output_type": "execute_result"
    }
   ],
   "source": [
    "xG_goals"
   ]
  },
  {
   "cell_type": "code",
   "execution_count": 325,
   "metadata": {},
   "outputs": [
    {
     "data": {
      "image/png": "[encoded data removed]",
      "text/plain": [
       "<matplotlib.figure.Figure at 0x1745c9fabe0>"
      ]
     },
     "metadata": {},
     "output_type": "display_data"
    }
   ],
   "source": [
    "fig, ax = plt.subplots(figsize=(15, 15))\n",
    "plt.scatter(xG_goals['xG_per_match'], xG_goals['goal_per_match'],s=25, cmap=plt.cm.coolwarm, zorder=10)\n",
    "lims = [np.min([ax.get_xlim(), ax.get_ylim()]), np.max([ax.get_xlim(), ax.get_ylim()]),]\n",
    "\n",
    "ax.plot(lims, lims, 'k-', alpha=0.75, zorder=0)\n",
    "ax.set_aspect('equal')\n",
    "ax.set_xlim(lims)\n",
    "ax.set_ylim(lims)\n",
    "\n",
    "for label, x, y in zip(xG_goals.index, xG_goals['xG_per_match'].values, xG_goals['goal_per_match'].values):\n",
    "    plt.annotate(label, xy=(x, y), xytext=(-10, 10), textcoords='offset points', ha='right', va='bottom',\n",
    "    bbox=dict(boxstyle='round,pad=0.5', fc='yellow', alpha=0.5),\n",
    "    arrowprops=dict(arrowstyle = '-', connectionstyle='arc3,rad=0'))\n",
    "\n",
    "\n",
    "plt.title('xG/goals in rpl 2018-2019', fontsize=18)\n",
    "plt.xlabel('xG created', fontsize=18)\n",
    "plt.ylabel('goals scored', fontsize=18)\n",
    "plt.grid()"
   ]
  },
  {
   "cell_type": "markdown",
   "metadata": {},
   "source": [
    "Получим данные по игрокам."
   ]
  },
  {
   "cell_type": "code",
   "execution_count": 326,
   "metadata": {},
   "outputs": [],
   "source": [
    "player_ids = set(data_test['player_name'].values)\n",
    "goal_players = dict()\n",
    "xG_players = dict()\n",
    "for i in player_ids:\n",
    "    goal_players[i] = goal_players.get(i, 0) + data_test[(data_test['player_name'] == i)  & (data_test['is_penalty'] == 0)]['is_goal'].sum()\n",
    "    xG_players[i] = xG_players.get(i, 0) + data_test[(data_test['player_name'] == i) & (data_test['is_penalty'] == 0)]['XG'].sum()"
   ]
  },
  {
   "cell_type": "code",
   "execution_count": 327,
   "metadata": {},
   "outputs": [],
   "source": [
    "goal_players = pd.DataFrame(list(goal_players.items()), columns=['Name', 'G']).sort_values('G', ascending=False)"
   ]
  },
  {
   "cell_type": "code",
   "execution_count": 328,
   "metadata": {},
   "outputs": [],
   "source": [
    "xG_players = pd.DataFrame(list(xG_players.items()), columns=['Name', 'xG']).sort_values('xG', ascending=False)"
   ]
  },
  {
   "cell_type": "code",
   "execution_count": 329,
   "metadata": {},
   "outputs": [],
   "source": [
    "table_players = xG_players.set_index('Name').join(goal_players.set_index('Name'))"
   ]
  },
  {
   "cell_type": "code",
   "execution_count": 330,
   "metadata": {},
   "outputs": [
    {
     "data": {
      "text/html": [
       "<div>\n",
       "<style scoped>\n",
       "    .dataframe tbody tr th:only-of-type {\n",
       "        vertical-align: middle;\n",
       "    }\n",
       "\n",
       "    .dataframe tbody tr th {\n",
       "        vertical-align: top;\n",
       "    }\n",
       "\n",
       "    .dataframe thead th {\n",
       "        text-align: right;\n",
       "    }\n",
       "</style>\n",
       "<table border=\"1\" class=\"dataframe\">\n",
       "  <thead>\n",
       "    <tr style=\"text-align: right;\">\n",
       "      <th></th>\n",
       "      <th>xG</th>\n",
       "      <th>G</th>\n",
       "    </tr>\n",
       "    <tr>\n",
       "      <th>Name</th>\n",
       "      <th></th>\n",
       "      <th></th>\n",
       "    </tr>\n",
       "  </thead>\n",
       "  <tbody>\n",
       "    <tr>\n",
       "      <th>Mohamed Salah</th>\n",
       "      <td>8.352996</td>\n",
       "      <td>10</td>\n",
       "    </tr>\n",
       "    <tr>\n",
       "      <th>Sergio Agüero</th>\n",
       "      <td>7.611987</td>\n",
       "      <td>8</td>\n",
       "    </tr>\n",
       "    <tr>\n",
       "      <th>Pierre-Emerick Aubameyang</th>\n",
       "      <td>7.298605</td>\n",
       "      <td>9</td>\n",
       "    </tr>\n",
       "    <tr>\n",
       "      <th>Callum Wilson</th>\n",
       "      <td>6.847561</td>\n",
       "      <td>7</td>\n",
       "    </tr>\n",
       "    <tr>\n",
       "      <th>Harry Kane</th>\n",
       "      <td>6.586223</td>\n",
       "      <td>6</td>\n",
       "    </tr>\n",
       "    <tr>\n",
       "      <th>Álvaro Morata</th>\n",
       "      <td>6.048216</td>\n",
       "      <td>5</td>\n",
       "    </tr>\n",
       "    <tr>\n",
       "      <th>Aleksandar Mitrovic</th>\n",
       "      <td>5.793340</td>\n",
       "      <td>7</td>\n",
       "    </tr>\n",
       "    <tr>\n",
       "      <th>Raheem Sterling</th>\n",
       "      <td>5.516272</td>\n",
       "      <td>8</td>\n",
       "    </tr>\n",
       "    <tr>\n",
       "      <th>Romelu Lukaku</th>\n",
       "      <td>5.438462</td>\n",
       "      <td>6</td>\n",
       "    </tr>\n",
       "    <tr>\n",
       "      <th>Raúl Jiménez</th>\n",
       "      <td>5.018331</td>\n",
       "      <td>3</td>\n",
       "    </tr>\n",
       "    <tr>\n",
       "      <th>Sadio Mané</th>\n",
       "      <td>4.855480</td>\n",
       "      <td>6</td>\n",
       "    </tr>\n",
       "    <tr>\n",
       "      <th>Roberto Firmino</th>\n",
       "      <td>4.784380</td>\n",
       "      <td>4</td>\n",
       "    </tr>\n",
       "    <tr>\n",
       "      <th>Danny Ings</th>\n",
       "      <td>4.693084</td>\n",
       "      <td>2</td>\n",
       "    </tr>\n",
       "    <tr>\n",
       "      <th>Gabriel Jesus</th>\n",
       "      <td>4.667427</td>\n",
       "      <td>1</td>\n",
       "    </tr>\n",
       "    <tr>\n",
       "      <th>Richarlison</th>\n",
       "      <td>4.582410</td>\n",
       "      <td>8</td>\n",
       "    </tr>\n",
       "    <tr>\n",
       "      <th>Jamie Vardy</th>\n",
       "      <td>4.562748</td>\n",
       "      <td>2</td>\n",
       "    </tr>\n",
       "    <tr>\n",
       "      <th>Leroy Sané</th>\n",
       "      <td>4.449794</td>\n",
       "      <td>6</td>\n",
       "    </tr>\n",
       "    <tr>\n",
       "      <th>Chicharito</th>\n",
       "      <td>4.366991</td>\n",
       "      <td>4</td>\n",
       "    </tr>\n",
       "    <tr>\n",
       "      <th>Alexandre Lacazette</th>\n",
       "      <td>4.275727</td>\n",
       "      <td>6</td>\n",
       "    </tr>\n",
       "    <tr>\n",
       "      <th>Callum Paterson</th>\n",
       "      <td>4.234612</td>\n",
       "      <td>4</td>\n",
       "    </tr>\n",
       "    <tr>\n",
       "      <th>David Silva</th>\n",
       "      <td>4.068315</td>\n",
       "      <td>5</td>\n",
       "    </tr>\n",
       "    <tr>\n",
       "      <th>Marko Arnautovic</th>\n",
       "      <td>4.035334</td>\n",
       "      <td>4</td>\n",
       "    </tr>\n",
       "    <tr>\n",
       "      <th>Salomón Rondón</th>\n",
       "      <td>3.891269</td>\n",
       "      <td>3</td>\n",
       "    </tr>\n",
       "    <tr>\n",
       "      <th>Gylfi Sigurdsson</th>\n",
       "      <td>3.888847</td>\n",
       "      <td>5</td>\n",
       "    </tr>\n",
       "    <tr>\n",
       "      <th>Troy Deeney</th>\n",
       "      <td>3.734897</td>\n",
       "      <td>2</td>\n",
       "    </tr>\n",
       "    <tr>\n",
       "      <th>Lucas Moura</th>\n",
       "      <td>3.580650</td>\n",
       "      <td>5</td>\n",
       "    </tr>\n",
       "    <tr>\n",
       "      <th>Roberto Pereyra</th>\n",
       "      <td>3.400190</td>\n",
       "      <td>5</td>\n",
       "    </tr>\n",
       "    <tr>\n",
       "      <th>Abdoulaye Doucouré</th>\n",
       "      <td>3.329985</td>\n",
       "      <td>2</td>\n",
       "    </tr>\n",
       "    <tr>\n",
       "      <th>Riyad Mahrez</th>\n",
       "      <td>3.304338</td>\n",
       "      <td>5</td>\n",
       "    </tr>\n",
       "    <tr>\n",
       "      <th>Glenn Murray</th>\n",
       "      <td>3.224844</td>\n",
       "      <td>5</td>\n",
       "    </tr>\n",
       "  </tbody>\n",
       "</table>\n",
       "</div>"
      ],
      "text/plain": [
       "                                 xG   G\n",
       "Name                                   \n",
       "Mohamed Salah              8.352996  10\n",
       "Sergio Agüero              7.611987   8\n",
       "Pierre-Emerick Aubameyang  7.298605   9\n",
       "Callum Wilson              6.847561   7\n",
       "Harry Kane                 6.586223   6\n",
       "Álvaro Morata              6.048216   5\n",
       "Aleksandar Mitrovic        5.793340   7\n",
       "Raheem Sterling            5.516272   8\n",
       "Romelu Lukaku              5.438462   6\n",
       "Raúl Jiménez               5.018331   3\n",
       "Sadio Mané                 4.855480   6\n",
       "Roberto Firmino            4.784380   4\n",
       "Danny Ings                 4.693084   2\n",
       "Gabriel Jesus              4.667427   1\n",
       "Richarlison                4.582410   8\n",
       "Jamie Vardy                4.562748   2\n",
       "Leroy Sané                 4.449794   6\n",
       "Chicharito                 4.366991   4\n",
       "Alexandre Lacazette        4.275727   6\n",
       "Callum Paterson            4.234612   4\n",
       "David Silva                4.068315   5\n",
       "Marko Arnautovic           4.035334   4\n",
       "Salomón Rondón             3.891269   3\n",
       "Gylfi Sigurdsson           3.888847   5\n",
       "Troy Deeney                3.734897   2\n",
       "Lucas Moura                3.580650   5\n",
       "Roberto Pereyra            3.400190   5\n",
       "Abdoulaye Doucouré         3.329985   2\n",
       "Riyad Mahrez               3.304338   5\n",
       "Glenn Murray               3.224844   5"
      ]
     },
     "execution_count": 330,
     "metadata": {},
     "output_type": "execute_result"
    }
   ],
   "source": [
    "table_players.head(30)"
   ]
  },
  {
   "cell_type": "code",
   "execution_count": 265,
   "metadata": {},
   "outputs": [],
   "source": [
    "table_players.to_csv('players_rpl_18-19.csv', index=None)"
   ]
  },
  {
   "cell_type": "code",
   "execution_count": 331,
   "metadata": {
    "scrolled": true
   },
   "outputs": [],
   "source": [
    "mean_distance = dict()\n",
    "xG_shot = dict()\n",
    "goal_shot = dict()\n",
    "for i in table_players[:30].index:\n",
    "    mean_distance[i] = data_test[(data_test['player_name'] == i) & (data_test['is_penalty'] == 0)]['distance'].mean()\n",
    "    xG_shot[i] = data_test[(data_test['player_name'] == i)  & (data_test['is_penalty'] == 0)]['XG'].sum() / data_test[data_test['player_name'] == i].shape[0]\n",
    "    goal_shot[i] = data_test[(data_test['player_name'] == i)  & (data_test['is_penalty'] == 0)]['is_goal'].sum() / data_test[data_test['player_name'] == i].shape[0]"
   ]
  },
  {
   "cell_type": "code",
   "execution_count": 332,
   "metadata": {},
   "outputs": [],
   "source": [
    "mean_distance = pd.DataFrame(list(mean_distance.items()), columns=['Name', 'distance']).sort_values('distance', ascending=False)"
   ]
  },
  {
   "cell_type": "code",
   "execution_count": 333,
   "metadata": {},
   "outputs": [],
   "source": [
    "xG_shot = pd.DataFrame(list(xG_shot.items()), columns=['Name', 'xG_shot']).sort_values('xG_shot', ascending=False)"
   ]
  },
  {
   "cell_type": "code",
   "execution_count": 334,
   "metadata": {},
   "outputs": [],
   "source": [
    "goal_shot = pd.DataFrame(list(goal_shot.items()), columns=['Name', 'goal_shot']).sort_values('goal_shot', ascending=False)"
   ]
  },
  {
   "cell_type": "code",
   "execution_count": 335,
   "metadata": {},
   "outputs": [],
   "source": [
    "table_shots = xG_shot.set_index('Name').join(goal_shot.set_index('Name'))"
   ]
  },
  {
   "cell_type": "code",
   "execution_count": 336,
   "metadata": {},
   "outputs": [],
   "source": [
    "table_shots = table_shots.join(mean_distance.set_index('Name'))"
   ]
  },
  {
   "cell_type": "code",
   "execution_count": 337,
   "metadata": {},
   "outputs": [
    {
     "data": {
      "text/html": [
       "<div>\n",
       "<style scoped>\n",
       "    .dataframe tbody tr th:only-of-type {\n",
       "        vertical-align: middle;\n",
       "    }\n",
       "\n",
       "    .dataframe tbody tr th {\n",
       "        vertical-align: top;\n",
       "    }\n",
       "\n",
       "    .dataframe thead th {\n",
       "        text-align: right;\n",
       "    }\n",
       "</style>\n",
       "<table border=\"1\" class=\"dataframe\">\n",
       "  <thead>\n",
       "    <tr style=\"text-align: right;\">\n",
       "      <th></th>\n",
       "      <th>xG_shot</th>\n",
       "      <th>goal_shot</th>\n",
       "      <th>distance</th>\n",
       "    </tr>\n",
       "    <tr>\n",
       "      <th>Name</th>\n",
       "      <th></th>\n",
       "      <th></th>\n",
       "      <th></th>\n",
       "    </tr>\n",
       "  </thead>\n",
       "  <tbody>\n",
       "    <tr>\n",
       "      <th>Chicharito</th>\n",
       "      <td>0.256882</td>\n",
       "      <td>0.235294</td>\n",
       "      <td>12.298273</td>\n",
       "    </tr>\n",
       "    <tr>\n",
       "      <th>Gabriel Jesus</th>\n",
       "      <td>0.202932</td>\n",
       "      <td>0.043478</td>\n",
       "      <td>11.561370</td>\n",
       "    </tr>\n",
       "    <tr>\n",
       "      <th>Pierre-Emerick Aubameyang</th>\n",
       "      <td>0.197260</td>\n",
       "      <td>0.243243</td>\n",
       "      <td>13.989343</td>\n",
       "    </tr>\n",
       "    <tr>\n",
       "      <th>Romelu Lukaku</th>\n",
       "      <td>0.194231</td>\n",
       "      <td>0.214286</td>\n",
       "      <td>11.344322</td>\n",
       "    </tr>\n",
       "    <tr>\n",
       "      <th>Callum Wilson</th>\n",
       "      <td>0.190210</td>\n",
       "      <td>0.194444</td>\n",
       "      <td>11.265371</td>\n",
       "    </tr>\n",
       "    <tr>\n",
       "      <th>Álvaro Morata</th>\n",
       "      <td>0.189007</td>\n",
       "      <td>0.156250</td>\n",
       "      <td>13.481795</td>\n",
       "    </tr>\n",
       "    <tr>\n",
       "      <th>Jamie Vardy</th>\n",
       "      <td>0.175490</td>\n",
       "      <td>0.076923</td>\n",
       "      <td>11.344321</td>\n",
       "    </tr>\n",
       "    <tr>\n",
       "      <th>Raheem Sterling</th>\n",
       "      <td>0.172384</td>\n",
       "      <td>0.250000</td>\n",
       "      <td>13.757441</td>\n",
       "    </tr>\n",
       "    <tr>\n",
       "      <th>Leroy Sané</th>\n",
       "      <td>0.171146</td>\n",
       "      <td>0.230769</td>\n",
       "      <td>14.011843</td>\n",
       "    </tr>\n",
       "    <tr>\n",
       "      <th>Roberto Firmino</th>\n",
       "      <td>0.170871</td>\n",
       "      <td>0.142857</td>\n",
       "      <td>14.903418</td>\n",
       "    </tr>\n",
       "    <tr>\n",
       "      <th>Lucas Moura</th>\n",
       "      <td>0.170507</td>\n",
       "      <td>0.238095</td>\n",
       "      <td>15.167699</td>\n",
       "    </tr>\n",
       "    <tr>\n",
       "      <th>Callum Paterson</th>\n",
       "      <td>0.162870</td>\n",
       "      <td>0.153846</td>\n",
       "      <td>11.325645</td>\n",
       "    </tr>\n",
       "    <tr>\n",
       "      <th>Glenn Murray</th>\n",
       "      <td>0.161242</td>\n",
       "      <td>0.250000</td>\n",
       "      <td>8.907217</td>\n",
       "    </tr>\n",
       "    <tr>\n",
       "      <th>Troy Deeney</th>\n",
       "      <td>0.149396</td>\n",
       "      <td>0.080000</td>\n",
       "      <td>13.915439</td>\n",
       "    </tr>\n",
       "    <tr>\n",
       "      <th>Sadio Mané</th>\n",
       "      <td>0.147136</td>\n",
       "      <td>0.181818</td>\n",
       "      <td>14.127350</td>\n",
       "    </tr>\n",
       "    <tr>\n",
       "      <th>Mohamed Salah</th>\n",
       "      <td>0.146544</td>\n",
       "      <td>0.175439</td>\n",
       "      <td>15.844728</td>\n",
       "    </tr>\n",
       "    <tr>\n",
       "      <th>David Silva</th>\n",
       "      <td>0.145297</td>\n",
       "      <td>0.178571</td>\n",
       "      <td>14.385096</td>\n",
       "    </tr>\n",
       "    <tr>\n",
       "      <th>Danny Ings</th>\n",
       "      <td>0.142215</td>\n",
       "      <td>0.060606</td>\n",
       "      <td>13.401946</td>\n",
       "    </tr>\n",
       "    <tr>\n",
       "      <th>Salomón Rondón</th>\n",
       "      <td>0.138974</td>\n",
       "      <td>0.107143</td>\n",
       "      <td>14.366402</td>\n",
       "    </tr>\n",
       "    <tr>\n",
       "      <th>Abdoulaye Doucouré</th>\n",
       "      <td>0.138749</td>\n",
       "      <td>0.083333</td>\n",
       "      <td>17.988131</td>\n",
       "    </tr>\n",
       "    <tr>\n",
       "      <th>Sergio Agüero</th>\n",
       "      <td>0.138400</td>\n",
       "      <td>0.145455</td>\n",
       "      <td>14.436789</td>\n",
       "    </tr>\n",
       "    <tr>\n",
       "      <th>Alexandre Lacazette</th>\n",
       "      <td>0.137927</td>\n",
       "      <td>0.193548</td>\n",
       "      <td>14.384503</td>\n",
       "    </tr>\n",
       "    <tr>\n",
       "      <th>Richarlison</th>\n",
       "      <td>0.134777</td>\n",
       "      <td>0.235294</td>\n",
       "      <td>14.773962</td>\n",
       "    </tr>\n",
       "    <tr>\n",
       "      <th>Harry Kane</th>\n",
       "      <td>0.129142</td>\n",
       "      <td>0.117647</td>\n",
       "      <td>14.906375</td>\n",
       "    </tr>\n",
       "    <tr>\n",
       "      <th>Marko Arnautovic</th>\n",
       "      <td>0.112093</td>\n",
       "      <td>0.111111</td>\n",
       "      <td>16.238421</td>\n",
       "    </tr>\n",
       "    <tr>\n",
       "      <th>Riyad Mahrez</th>\n",
       "      <td>0.110145</td>\n",
       "      <td>0.166667</td>\n",
       "      <td>16.103796</td>\n",
       "    </tr>\n",
       "    <tr>\n",
       "      <th>Roberto Pereyra</th>\n",
       "      <td>0.109684</td>\n",
       "      <td>0.161290</td>\n",
       "      <td>16.378318</td>\n",
       "    </tr>\n",
       "    <tr>\n",
       "      <th>Aleksandar Mitrovic</th>\n",
       "      <td>0.105333</td>\n",
       "      <td>0.127273</td>\n",
       "      <td>14.786845</td>\n",
       "    </tr>\n",
       "    <tr>\n",
       "      <th>Raúl Jiménez</th>\n",
       "      <td>0.102415</td>\n",
       "      <td>0.061224</td>\n",
       "      <td>14.743832</td>\n",
       "    </tr>\n",
       "    <tr>\n",
       "      <th>Gylfi Sigurdsson</th>\n",
       "      <td>0.092592</td>\n",
       "      <td>0.119048</td>\n",
       "      <td>19.122946</td>\n",
       "    </tr>\n",
       "  </tbody>\n",
       "</table>\n",
       "</div>"
      ],
      "text/plain": [
       "                            xG_shot  goal_shot   distance\n",
       "Name                                                     \n",
       "Chicharito                 0.256882   0.235294  12.298273\n",
       "Gabriel Jesus              0.202932   0.043478  11.561370\n",
       "Pierre-Emerick Aubameyang  0.197260   0.243243  13.989343\n",
       "Romelu Lukaku              0.194231   0.214286  11.344322\n",
       "Callum Wilson              0.190210   0.194444  11.265371\n",
       "Álvaro Morata              0.189007   0.156250  13.481795\n",
       "Jamie Vardy                0.175490   0.076923  11.344321\n",
       "Raheem Sterling            0.172384   0.250000  13.757441\n",
       "Leroy Sané                 0.171146   0.230769  14.011843\n",
       "Roberto Firmino            0.170871   0.142857  14.903418\n",
       "Lucas Moura                0.170507   0.238095  15.167699\n",
       "Callum Paterson            0.162870   0.153846  11.325645\n",
       "Glenn Murray               0.161242   0.250000   8.907217\n",
       "Troy Deeney                0.149396   0.080000  13.915439\n",
       "Sadio Mané                 0.147136   0.181818  14.127350\n",
       "Mohamed Salah              0.146544   0.175439  15.844728\n",
       "David Silva                0.145297   0.178571  14.385096\n",
       "Danny Ings                 0.142215   0.060606  13.401946\n",
       "Salomón Rondón             0.138974   0.107143  14.366402\n",
       "Abdoulaye Doucouré         0.138749   0.083333  17.988131\n",
       "Sergio Agüero              0.138400   0.145455  14.436789\n",
       "Alexandre Lacazette        0.137927   0.193548  14.384503\n",
       "Richarlison                0.134777   0.235294  14.773962\n",
       "Harry Kane                 0.129142   0.117647  14.906375\n",
       "Marko Arnautovic           0.112093   0.111111  16.238421\n",
       "Riyad Mahrez               0.110145   0.166667  16.103796\n",
       "Roberto Pereyra            0.109684   0.161290  16.378318\n",
       "Aleksandar Mitrovic        0.105333   0.127273  14.786845\n",
       "Raúl Jiménez               0.102415   0.061224  14.743832\n",
       "Gylfi Sigurdsson           0.092592   0.119048  19.122946"
      ]
     },
     "execution_count": 337,
     "metadata": {},
     "output_type": "execute_result"
    }
   ],
   "source": [
    "table_shots.sort_values('xG_shot', ascending=False)"
   ]
  },
  {
   "cell_type": "code",
   "execution_count": 338,
   "metadata": {},
   "outputs": [
    {
     "data": {
      "image/png": "[encoded data removed]",
      "text/plain": [
       "<matplotlib.figure.Figure at 0x1745ac8ef28>"
      ]
     },
     "metadata": {},
     "output_type": "display_data"
    }
   ],
   "source": [
    "fig, ax = plt.subplots(figsize=(20, 20))\n",
    "plt.scatter(table_shots[:30]['xG_shot'].values, table_shots[:30]['goal_shot'],s=25, cmap=plt.cm.coolwarm, zorder=10)\n",
    "lims = [np.min([ax.get_xlim(), ax.get_ylim()]),np.max([ax.get_xlim(), ax.get_ylim()]),]\n",
    "ax.plot(lims, lims, 'k-', alpha=0.75, zorder=0)\n",
    "ax.set_aspect('equal')\n",
    "for label, x, y in zip(table_shots[:30].index, table_shots[:30]['xG_shot'].values, table_shots[:30]['goal_shot']):\n",
    "    plt.annotate(\n",
    "        label,\n",
    "        xy=(x, y), xytext=(-10, 10),\n",
    "        textcoords='offset points', ha='right', va='bottom',\n",
    "        bbox=dict(boxstyle='round,pad=0.5', fc='yellow', alpha=0.3),\n",
    "        arrowprops=dict(arrowstyle = '->', connectionstyle='arc3,rad=0'))\n",
    "\n",
    "\n",
    "plt.title('xG/shot and goal/shot in rpl 2018-2019', fontsize=18)\n",
    "plt.xlabel('xG/shot', fontsize=18)\n",
    "plt.ylabel('goal/shot', fontsize=18)\n",
    "plt.grid()"
   ]
  },
  {
   "cell_type": "code",
   "execution_count": 283,
   "metadata": {},
   "outputs": [],
   "source": [
    "table_shots.to_csv('table_shots_rpl_18-19.csv', index=None)"
   ]
  },
  {
   "cell_type": "code",
   "execution_count": 339,
   "metadata": {},
   "outputs": [
    {
     "data": {
      "text/plain": [
       "0.2745622301559199"
      ]
     },
     "execution_count": 339,
     "metadata": {},
     "output_type": "execute_result"
    }
   ],
   "source": [
    "from sklearn.metrics import mean_squared_error\n",
    "np.sqrt(mean_squared_error(data_test['is_goal'].values, data_test['XG'].values))"
   ]
  },
  {
   "cell_type": "code",
   "execution_count": 340,
   "metadata": {},
   "outputs": [
    {
     "data": {
      "text/plain": [
       "0.796869603421304"
      ]
     },
     "execution_count": 340,
     "metadata": {},
     "output_type": "execute_result"
    }
   ],
   "source": [
    "from sklearn.metrics import roc_auc_score\n",
    "roc_auc_score(data_test['is_goal'].values, data_test['XG'].values)"
   ]
  }
 ],
 "metadata": {
  "kernelspec": {
   "display_name": "Python 3",
   "language": "python",
   "name": "python3"
  },
  "language_info": {
   "codemirror_mode": {
    "name": "ipython",
    "version": 3
   },
   "file_extension": ".py",
   "mimetype": "text/x-python",
   "name": "python",
   "nbconvert_exporter": "python",
   "pygments_lexer": "ipython3",
   "version": "3.6.4"
  }
 },
 "nbformat": 4,
 "nbformat_minor": 2
}
